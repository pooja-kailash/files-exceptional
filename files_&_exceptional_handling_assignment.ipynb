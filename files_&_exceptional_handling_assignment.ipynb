{
  "nbformat": 4,
  "nbformat_minor": 0,
  "metadata": {
    "colab": {
      "provenance": []
    },
    "kernelspec": {
      "name": "python3",
      "display_name": "Python 3"
    },
    "language_info": {
      "name": "python"
    }
  },
  "cells": [
    {
      "cell_type": "markdown",
      "source": [
        "Q.1. What is the difference between interpreted and compiled languages?\n",
        "\n",
        "ANS\n",
        "\n",
        "Interpreted languages (like Python) execute code line by line using an interpreter, while compiled languages (like C++) translate the entire code into machine code before execution."
      ],
      "metadata": {
        "id": "cPhPBje4Xxag"
      }
    },
    {
      "cell_type": "markdown",
      "source": [
        "Q.2. What is exception handling in Python?\n",
        "\n",
        "Ans\n",
        "\n",
        "A mechanism to handle runtime errors gracefully, preventing the program from crashing and allowing for recovery or alternative actions.\n",
        "\n"
      ],
      "metadata": {
        "id": "iKMHFQn4aMYJ"
      }
    },
    {
      "cell_type": "markdown",
      "source": [
        "Q.3. What is the purpose of the finally block in exception handling?\n",
        "\n",
        "Ans\n",
        "\n",
        "The finally block in exception handling ensures that a specific block of code is always executed, regardless of whether an exception occurred or not (e.g., for resource cleanup).\n",
        "\n"
      ],
      "metadata": {
        "id": "XWAXeST4aNg3"
      }
    },
    {
      "cell_type": "markdown",
      "source": [
        "Q.4. What is logging in Python?\n",
        "\n",
        "Ans\n",
        "\n",
        "A way to record events that happen during the execution of a program, useful for debugging, monitoring, and understanding program behavior."
      ],
      "metadata": {
        "id": "UXvZFU0qaM7R"
      }
    },
    {
      "cell_type": "markdown",
      "source": [
        "Q.5. What is the significance of the __del__ method in Python?\n",
        "\n",
        "Ans\n",
        "\n",
        "The __del__ method, also known as the destructor, is called when an object is about to be destroyed, allowing for cleanup operations before the object's memory is reclaimed.\n"
      ],
      "metadata": {
        "id": "JNnPki8bafU7"
      }
    },
    {
      "cell_type": "markdown",
      "source": [
        "Q.6.What is the difference between import and from ... import in Python?\n",
        "\n",
        "Ans\n",
        "\n",
        "import module imports the entire module, requiring module.function() to access its contents, while from module import function imports only specific functions or attributes directly, allowing function() to be called.\n",
        "\n"
      ],
      "metadata": {
        "id": "tbYp6JxHa8g5"
      }
    },
    {
      "cell_type": "markdown",
      "source": [
        "Q.7. F How can you handle multiple exceptions in Python?\n",
        "\n",
        "Ans\n",
        "\n",
        "You can handle multiple exceptions using multiple except blocks, or by grouping exceptions in a tuple within a single except block (e.g., except (TypeError, ValueError) as e:).\n"
      ],
      "metadata": {
        "id": "va_P3Wl4e2kx"
      }
    },
    {
      "cell_type": "markdown",
      "source": [
        "Q.8. What is the purpose of the with statement when handling files in Python?\n",
        "\n",
        "Ans\n",
        "\n",
        "The with statement ensures proper resource management, particularly for file handling, guaranteeing that resources (like files) are automatically closed after use, even if errors occur.\n"
      ],
      "metadata": {
        "id": "03SzASYKfD8Q"
      }
    },
    {
      "cell_type": "markdown",
      "source": [
        "Q.9  What is the difference between multithreading and multiprocessing?\n",
        "\n",
        "Ans\n",
        "\n",
        "Multithreading involves multiple threads within a single process sharing the same memory space, while multiprocessing involves multiple independent processes, each with its own memory space.\n",
        "\n"
      ],
      "metadata": {
        "id": "8i5WAPHIfOE6"
      }
    },
    {
      "cell_type": "markdown",
      "source": [
        "Q.10 What are the advantages of using logging in a program?\n",
        "\n",
        "Ans\n",
        "\n",
        "Advantages include easier debugging, performance monitoring, auditing, and providing insights into application behavior.\n"
      ],
      "metadata": {
        "id": "FB6gD6EwfasC"
      }
    },
    {
      "cell_type": "markdown",
      "source": [
        "Q.11. What is memory management in Python?\n",
        "\n",
        "Ans\n",
        "\n",
        "Python uses a private heap to manage memory, employing a combination of reference counting and a garbage collector to reclaim unused memory.\n",
        "\n"
      ],
      "metadata": {
        "id": "zquSETGbfmm7"
      }
    },
    {
      "cell_type": "markdown",
      "source": [
        "Q.12 What are the basic steps involved in exception handling in Python?\n",
        "\n",
        "Ans\n",
        "\n",
        "Involves try (code that might raise an exception), except (code to handle specific exceptions), else (code to execute if no exception occurs), and finally (code that always executes).\n"
      ],
      "metadata": {
        "id": "T6bybG6Ifxhc"
      }
    },
    {
      "cell_type": "markdown",
      "source": [
        "Q.13. Why is memory management important in Python?\n",
        "\n",
        "Ans\n",
        "\n",
        "Efficient memory management prevents memory leaks, improves program performance, and ensures the stability and reliability of applications.\n",
        "\n"
      ],
      "metadata": {
        "id": "0Z82L0wtf-so"
      }
    },
    {
      "cell_type": "markdown",
      "source": [
        "Q.14. What is the role of try and except in exception handling?\n",
        "\n",
        "Ans\n",
        "\n",
        "The try block encloses code that might raise an exception, and the except block catches and handles specific exceptions that occur within the try block.\n"
      ],
      "metadata": {
        "id": "wkWOFGtLgNfM"
      }
    },
    {
      "cell_type": "markdown",
      "source": [
        "Q.15. How does Python's garbage collection system work?\n",
        "\n",
        "Ans\n",
        "\n",
        "Python's garbage collector primarily uses reference counting to identify and reclaim objects with no references. It also has a cyclic garbage collector to handle reference cycles.\n"
      ],
      "metadata": {
        "id": "G6YdxkSyh0Ma"
      }
    },
    {
      "cell_type": "markdown",
      "source": [
        "Q.16. What is the purpose of the else block in exception handling?\n",
        "\n",
        "Ans\n",
        "\n",
        "The else block associated with try...except is executed only if no exception occurs within the try block.\n",
        "\n"
      ],
      "metadata": {
        "id": "tZ3SnAPoh-2t"
      }
    },
    {
      "cell_type": "markdown",
      "source": [
        "Q.17. What are the common logging levels in Python?\n",
        "\n",
        "Ans\n",
        "\n",
        "Common logging levels include DEBUG, INFO, WARNING, ERROR, and CRITICAL, indicating the severity of the logged message.\n",
        "\n"
      ],
      "metadata": {
        "id": "F5VeRJc8iLtf"
      }
    },
    {
      "cell_type": "markdown",
      "source": [
        "Q.18. What is the difference between os.fork() and multiprocessing in Python?\n",
        "\n",
        "Ans\n",
        "\n",
        "os.fork() creates a new process by duplicating the current process, while the multiprocessing module provides a more portable and higher-level way to create and manage processes.\n",
        "\n"
      ],
      "metadata": {
        "id": "tesZJ0TdiVI-"
      }
    },
    {
      "cell_type": "markdown",
      "source": [
        "Q.19. What is the importance of closing a file in Python?\n",
        "\n",
        "Ans\n",
        "\n",
        "Closing a file releases the system resources held by the file and ensures that all buffered data is written to disk, preventing data loss or corruption.\n",
        "\n"
      ],
      "metadata": {
        "id": "2uOJNUIjih7L"
      }
    },
    {
      "cell_type": "markdown",
      "source": [
        "Q.20. What is the difference between file.read() and file.readline() in Python?\n",
        "\n",
        "Ans\n",
        "\n",
        "file.read() reads the entire content of a file or a specified number of bytes, while file.readline() reads a single line from the file.\n",
        "\n"
      ],
      "metadata": {
        "id": "8bB50rfziu-V"
      }
    },
    {
      "cell_type": "markdown",
      "source": [
        "Q. 21. What is the logging module in Python used for?\n",
        "\n",
        "Ans\n",
        "\n",
        "The logging module provides a flexible framework for emitting log messages from Python programs.\n",
        "\n"
      ],
      "metadata": {
        "id": "C1RtcA0yjBMQ"
      }
    },
    {
      "cell_type": "markdown",
      "source": [
        "Q.22.What is the os module in Python used for in file handling?\n",
        "\n",
        "Ans\n",
        "\n",
        "The os module provides functions for interacting with the operating system, including file and directory operations like creating, deleting, and renaming files.\n",
        "\n"
      ],
      "metadata": {
        "id": "RDvhGIbojOk-"
      }
    },
    {
      "cell_type": "markdown",
      "source": [
        "Q.23. What are the challenges associated with memory management in Python?\n",
        "\n",
        "Ans\n",
        "\n",
        "Challenges include memory leaks, fragmentation, and ensuring efficient allocation and deallocation of memory.\n",
        "\n"
      ],
      "metadata": {
        "id": "xdxeeEeKjZvx"
      }
    },
    {
      "cell_type": "markdown",
      "source": [
        "Q.24. How do you raise an exception manually in Python?\n",
        "\n",
        "Ans\n",
        "\n",
        "You can raise an exception manually using the raise statement followed by the exception type and an optional message (e.g., raise ValueError(\"Invalid input\")).\n",
        "\n"
      ],
      "metadata": {
        "id": "kMfhLirNjkjc"
      }
    },
    {
      "cell_type": "markdown",
      "source": [
        "Q.25.Why is it important to use multithreading in certain applications?\n",
        "\n",
        "Ans\n",
        "\n",
        "Multithreading is important in applications requiring concurrent execution of tasks, such as I/O-bound operations, improving responsiveness and perceived performance.\n"
      ],
      "metadata": {
        "id": "uQD2e_z2juqY"
      }
    },
    {
      "cell_type": "markdown",
      "source": [
        "# **PRACTICAL**"
      ],
      "metadata": {
        "id": "Kd52kpi-kAzP"
      }
    },
    {
      "cell_type": "markdown",
      "source": [
        "Q1\n",
        "\n",
        "ans\n"
      ],
      "metadata": {
        "id": "W3tDqpneyJB8"
      }
    },
    {
      "cell_type": "code",
      "source": [
        "# Open the file in write mode (\"w\") and write a string to it\n",
        "with open(\"output.txt\", \"w\") as f:\n",
        "    f.write(\"Hello, world!\")\n",
        "\n",
        "# Read the file to verify the content\n",
        "with open(\"output.txt\", \"r\") as f:\n",
        "    content = f.read()\n",
        "\n",
        "print(content)"
      ],
      "metadata": {
        "colab": {
          "base_uri": "https://localhost:8080/"
        },
        "id": "MKELJjsgmIeJ",
        "outputId": "5f7b7a8a-7f2a-4ced-9747-e6584e713be5"
      },
      "execution_count": 76,
      "outputs": [
        {
          "output_type": "stream",
          "name": "stdout",
          "text": [
            "Hello, world!\n"
          ]
        }
      ]
    },
    {
      "cell_type": "markdown",
      "source": [
        "Q.2\n",
        "\n",
        "Ans\n",
        "\n"
      ],
      "metadata": {
        "id": "SNoIFiKG4taz"
      }
    },
    {
      "cell_type": "code",
      "source": [
        "# Create a sample file for demonstration\n",
        "with open(\"sample.txt\", \"w\") as f:\n",
        "    f.write(\"First line\\n\")\n",
        "    f.write(\"Second line\\n\")\n",
        "    f.write(\"Third line\")\n",
        "\n",
        "# Read and print each line\n",
        "with open(\"sample.txt\", \"r\") as f:\n",
        "    for line in f:\n",
        "        print(line.strip())  # strip() removes extra spaces/newline"
      ],
      "metadata": {
        "colab": {
          "base_uri": "https://localhost:8080/"
        },
        "id": "cQeTwL7h4NA5",
        "outputId": "61f21492-8bfb-46ac-c0df-8531da930281"
      },
      "execution_count": 73,
      "outputs": [
        {
          "output_type": "stream",
          "name": "stdout",
          "text": [
            "First line\n",
            "Second line\n",
            "Third line\n"
          ]
        }
      ]
    },
    {
      "cell_type": "markdown",
      "source": [
        "Q.3\n",
        "\n",
        "Ans\n"
      ],
      "metadata": {
        "id": "SD3m160o5aKi"
      }
    },
    {
      "cell_type": "code",
      "source": [
        "try:\n",
        "    with open(\"nonexistent.txt\", \"r\") as file:\n",
        "        content = file.read()\n",
        "except FileNotFoundError:\n",
        "    print(\"Error: The file does not exist.\")\n",
        "\n",
        "\n"
      ],
      "metadata": {
        "colab": {
          "base_uri": "https://localhost:8080/"
        },
        "id": "YB3-XOmm4wW1",
        "outputId": "2cd28454-6835-4e2f-a709-81b9cf549a5c"
      },
      "execution_count": 11,
      "outputs": [
        {
          "output_type": "stream",
          "name": "stdout",
          "text": [
            "Error: The file does not exist.\n"
          ]
        }
      ]
    },
    {
      "cell_type": "markdown",
      "source": [
        "Q.4\n",
        "\n",
        "Ans\n",
        "\n"
      ],
      "metadata": {
        "id": "xHrG5SHm5kjz"
      }
    },
    {
      "cell_type": "code",
      "source": [
        "# Step 1: Create a source file with some content\n",
        "with open(\"source.txt\", \"w\") as f:\n",
        "    f.write(\"This is the first line.\\n\")\n",
        "    f.write(\"This is the second line.\\n\")\n",
        "    f.write(\"This is the third line.\")\n",
        "\n",
        "# Step 2: Read from source file and write to destination file\n",
        "with open(\"source.txt\", \"r\") as src:\n",
        "    content = src.read()\n",
        "\n",
        "with open(\"destination.txt\", \"w\") as dest:\n",
        "    dest.write(content)\n",
        "\n",
        "# Step 3: Read destination file to verify\n",
        "with open(\"destination.txt\", \"r\") as f:\n",
        "    print(f.read())"
      ],
      "metadata": {
        "colab": {
          "base_uri": "https://localhost:8080/"
        },
        "id": "bX-bI_MT54oV",
        "outputId": "55b81694-207d-453b-d8b6-5d6e4ee52d8a"
      },
      "execution_count": 77,
      "outputs": [
        {
          "output_type": "stream",
          "name": "stdout",
          "text": [
            "This is the first line.\n",
            "This is the second line.\n",
            "This is the third line.\n"
          ]
        }
      ]
    },
    {
      "cell_type": "markdown",
      "source": [
        "Q.5.\n",
        "\n",
        "Ans\n"
      ],
      "metadata": {
        "id": "qR4Y9F4E61Yb"
      }
    },
    {
      "cell_type": "code",
      "source": [
        "try:\n",
        "    result = 10 / 0\n",
        "except ZeroDivisionError:\n",
        "    print(\"Error: Cannot divide by zero.\")\n",
        "\n",
        "\n"
      ],
      "metadata": {
        "colab": {
          "base_uri": "https://localhost:8080/"
        },
        "id": "f6bzI-Y76vxd",
        "outputId": "9d1d0495-e9d7-49bc-bb50-e27284a1458a"
      },
      "execution_count": 9,
      "outputs": [
        {
          "output_type": "stream",
          "name": "stdout",
          "text": [
            "Error: Cannot divide by zero.\n"
          ]
        }
      ]
    },
    {
      "cell_type": "markdown",
      "source": [
        "Q.6\n",
        "\n",
        "ans\n"
      ],
      "metadata": {
        "id": "v5AhdSPl7d1l"
      }
    },
    {
      "cell_type": "code",
      "source": [
        "import logging\n",
        "\n",
        "# Configure logging to write to 'error.log'\n",
        "logging.basicConfig(filename=\"error.log\", level=logging.ERROR)\n",
        "\n",
        "try:\n",
        "    result = 10 / 0\n",
        "except ZeroDivisionError as e:\n",
        "    logging.error(\"Division by zero error occurred: %s\", e)\n",
        "\n"
      ],
      "metadata": {
        "colab": {
          "base_uri": "https://localhost:8080/"
        },
        "id": "Uydn40qhm7tc",
        "outputId": "676beabf-51d2-4f00-a513-135fc124f4b1"
      },
      "execution_count": 8,
      "outputs": [
        {
          "output_type": "stream",
          "name": "stderr",
          "text": [
            "ERROR:root:Division by zero error occurred: division by zero\n"
          ]
        }
      ]
    },
    {
      "cell_type": "markdown",
      "source": [
        "Q.7.\n",
        "\n",
        "Ans"
      ],
      "metadata": {
        "id": "Pt0tTt-t7vOy"
      }
    },
    {
      "cell_type": "code",
      "source": [
        "import logging\n",
        "\n",
        "# Setup logging with level and format\n",
        "logging.basicConfig(filename=\"app.log\", level=logging.DEBUG,\n",
        "                    format=\"%(levelname)s:%(message)s\")\n",
        "\n",
        "logging.info(\"This is an informational message.\")\n",
        "logging.warning(\"This is a warning.\")\n",
        "logging.error(\"This is an error.\")\n",
        "\n"
      ],
      "metadata": {
        "colab": {
          "base_uri": "https://localhost:8080/"
        },
        "id": "8dKbIu-07SNc",
        "outputId": "e9ae3192-a928-4af0-8478-f9d90dd4b1c9"
      },
      "execution_count": 14,
      "outputs": [
        {
          "output_type": "stream",
          "name": "stderr",
          "text": [
            "WARNING:root:This is a warning.\n",
            "ERROR:root:This is an error.\n"
          ]
        }
      ]
    },
    {
      "cell_type": "markdown",
      "source": [
        "Q.8\n",
        "\n",
        "Ans"
      ],
      "metadata": {
        "id": "_Lleg-8q77bl"
      }
    },
    {
      "cell_type": "code",
      "source": [
        "# Try to open a file that may not exist\n",
        "try:\n",
        "    with open(\"non_existent_file.txt\", \"r\") as file:\n",
        "        content = file.read()\n",
        "        print(content)\n",
        "\n",
        "# Catch the specific error if file is not found\n",
        "except FileNotFoundError:\n",
        "    print(\"Error: The file does not exist. Please check the filename or path.\")\n",
        "\n",
        "# Catch any other unexpected errors\n",
        "except Exception as e:\n",
        "    print(f\"An unexpected error occurred: {e}\")"
      ],
      "metadata": {
        "colab": {
          "base_uri": "https://localhost:8080/"
        },
        "id": "XNB9FKwz7yHU",
        "outputId": "62c6fbfa-fb26-43c6-d263-e26c6eb1a88e"
      },
      "execution_count": 53,
      "outputs": [
        {
          "output_type": "stream",
          "name": "stdout",
          "text": [
            "Error: The file does not exist. Please check the filename or path.\n"
          ]
        }
      ]
    },
    {
      "cell_type": "markdown",
      "source": [
        "Q.9.\n",
        "\n",
        "Ans"
      ],
      "metadata": {
        "id": "NS22H7GY7-kY"
      }
    },
    {
      "cell_type": "code",
      "source": [
        "#create a sample text file for demonstration\n",
        "with open(\"sample.text\",\"w\") as f:\n",
        "  f.write(\"Apple\\n\")\n",
        "  f.write(\"Banana\\n\")\n",
        "  f.write(\"Cherry\")\n",
        "\n",
        "#read the file lline by line and store in a list\n",
        "lines_list = []\n",
        "with open(\"sample.txt\", \"r\") as f:\n",
        "  for line in f:\n",
        "    lines_list.append(line.strip())\n",
        "print(lines_list)\n"
      ],
      "metadata": {
        "colab": {
          "base_uri": "https://localhost:8080/"
        },
        "id": "OMJJDAdp76ck",
        "outputId": "60992910-27b1-4bb8-bb70-d70e7c1a7708"
      },
      "execution_count": 79,
      "outputs": [
        {
          "output_type": "stream",
          "name": "stdout",
          "text": [
            "['First line', 'Second line', 'Third line']\n"
          ]
        }
      ]
    },
    {
      "cell_type": "markdown",
      "source": [
        "Q.10.\n",
        "\n",
        "Ans"
      ],
      "metadata": {
        "id": "aQC6uPgn8LbQ"
      }
    },
    {
      "cell_type": "code",
      "source": [
        "# Step 1: Create a file with initial content\n",
        "with open(\"example.txt\", \"w\") as f:\n",
        "    f.write(\"Line 1\\n\")\n",
        "    f.write(\"Line 2\\n\")\n",
        "\n",
        "# Step 2: Append data to the file\n",
        "with open(\"example.txt\", \"a\") as f:\n",
        "    f.write(\"Line 3\\n\")\n",
        "    f.write(\"Line 4\\n\")\n",
        "\n",
        "# Step 3: Read file to verify appended content\n",
        "with open(\"example.txt\", \"r\") as f:\n",
        "    print(f.read())"
      ],
      "metadata": {
        "id": "kmF302gi8FMn",
        "colab": {
          "base_uri": "https://localhost:8080/"
        },
        "outputId": "d50828c5-ed3c-469f-f73f-5e69ea4ec08f"
      },
      "execution_count": 80,
      "outputs": [
        {
          "output_type": "stream",
          "name": "stdout",
          "text": [
            "Line 1\n",
            "Line 2\n",
            "Line 3\n",
            "Line 4\n",
            "\n"
          ]
        }
      ]
    },
    {
      "cell_type": "markdown",
      "source": [
        "Q.11\n",
        "\n",
        "Ans\n"
      ],
      "metadata": {
        "id": "loQ5ejZCpme1"
      }
    },
    {
      "cell_type": "code",
      "source": [
        "data = {\"name\": \"Pooja\", \"age\": 25}\n",
        "\n",
        "try:\n",
        "    print(data[\"email\"])\n",
        "except KeyError:\n",
        "    print(\"Error: 'email' key not found in dictionary.\")\n",
        "\n"
      ],
      "metadata": {
        "colab": {
          "base_uri": "https://localhost:8080/"
        },
        "id": "YKnDOyytnntE",
        "outputId": "e03bcaf3-7219-48c8-ff80-2681f4ee6f44"
      },
      "execution_count": 54,
      "outputs": [
        {
          "output_type": "stream",
          "name": "stdout",
          "text": [
            "Error: 'email' key not found in dictionary.\n"
          ]
        }
      ]
    },
    {
      "cell_type": "markdown",
      "source": [
        "Q.12\n",
        "\n",
        "Ans\n"
      ],
      "metadata": {
        "id": "w_JGWaw9p12z"
      }
    },
    {
      "cell_type": "code",
      "source": [
        "try:\n",
        "    # Ask user for two numbers\n",
        "    num1 = int(input(\"Enter first number: \"))\n",
        "    num2 = int(input(\"Enter second number: \"))\n",
        "\n",
        "    # Perform division\n",
        "    result = num1 / num2\n",
        "    print(\"Result:\", result)\n",
        "\n",
        "    # Try to open a file\n",
        "    with open(\"nonexistent.txt\", \"r\") as f:\n",
        "        data = f.read()\n",
        "        print(data)\n",
        "\n",
        "except ValueError:\n",
        "    print(\"Error: Invalid input! Please enter integers only.\")\n",
        "\n",
        "except ZeroDivisionError:\n",
        "    print(\"Error: Division by zero is not allowed.\")\n",
        "\n",
        "except FileNotFoundError:\n",
        "    print(\"Error: The file you are trying to open does not exist.\")\n",
        "\n",
        "except Exception as e:\n",
        "    print(\"An unexpected error occurred:\", e)"
      ],
      "metadata": {
        "colab": {
          "base_uri": "https://localhost:8080/"
        },
        "id": "V-TEIowppxVE",
        "outputId": "7b772fe1-329e-4222-b306-35af8e9fa4c8"
      },
      "execution_count": 83,
      "outputs": [
        {
          "output_type": "stream",
          "name": "stdout",
          "text": [
            "Enter first number: 7\n",
            "Enter second number: 8\n",
            "Result: 0.875\n",
            "Error: The file you are trying to open does not exist.\n"
          ]
        }
      ]
    },
    {
      "cell_type": "markdown",
      "source": [
        "Q.13\n",
        "\n",
        "Ans\n"
      ],
      "metadata": {
        "id": "g_uNpRUop7x1"
      }
    },
    {
      "cell_type": "code",
      "source": [
        "import os\n",
        "\n",
        "# Create a sample file (use 'w' mode to write)\n",
        "with open(\"myfile.txt\", \"w\") as f:\n",
        "    f.write(\"Hello, Pooja!\\nThis is a sample file.\")\n",
        "\n",
        "file_path = \"myfile.txt\"\n",
        "\n",
        "if os.path.exists(file_path):\n",
        "    with open(file_path, \"r\") as file:\n",
        "        content = file.read()\n",
        "        print(\"File content:\")\n",
        "        print(content)\n",
        "else:\n",
        "    print(\"File does not exist.\")"
      ],
      "metadata": {
        "colab": {
          "base_uri": "https://localhost:8080/"
        },
        "id": "cGWp920Ep6QH",
        "outputId": "3274647a-09e1-466c-caa2-16936d77eb15"
      },
      "execution_count": 59,
      "outputs": [
        {
          "output_type": "stream",
          "name": "stdout",
          "text": [
            "File content:\n",
            "Hello, Pooja!\n",
            "This is a sample file.\n"
          ]
        }
      ]
    },
    {
      "cell_type": "markdown",
      "source": [
        "Q.14\n",
        "\n",
        "Ans\n"
      ],
      "metadata": {
        "id": "90bVsOj9qIwL"
      }
    },
    {
      "cell_type": "code",
      "source": [
        "import logging\n",
        "\n",
        "# Configure logging\n",
        "logging.basicConfig(\n",
        "    level=logging.DEBUG,                  # Capture all messages DEBUG and above\n",
        "    format=\"%(asctime)s - %(levelname)s - %(message)s\",\n",
        "    filename=\"app.log\",                   # Log messages to a file\n",
        "    filemode=\"w\"                           # Overwrite file each run\n",
        ")\n",
        "\n",
        "# Log informational message\n",
        "logging.info(\"Program started successfully.\")\n",
        "\n",
        "try:\n",
        "    x = int(input(\"Enter a number: \"))\n",
        "    y = int(input(\"Enter another number: \"))\n",
        "    result = x / y\n",
        "    logging.info(f\"Division successful: {x} / {y} = {result}\")\n",
        "    print(f\"Result: {result}\")\n",
        "\n",
        "except ZeroDivisionError:\n",
        "    logging.error(\"Division by zero attempted.\")\n",
        "    print(\"Error: Cannot divide by zero.\")\n",
        "\n",
        "except ValueError:\n",
        "    logging.error(\"Invalid input provided (non-integer).\")\n",
        "    print(\"Error: Please enter valid integers.\")\n",
        "\n",
        "# Log final message\n",
        "logging.info(\"Program finished.\")"
      ],
      "metadata": {
        "colab": {
          "base_uri": "https://localhost:8080/"
        },
        "id": "S9QkF0QQqMfA",
        "outputId": "b15ddd52-0871-4cec-83e9-0eb23e9da41b"
      },
      "execution_count": 84,
      "outputs": [
        {
          "output_type": "stream",
          "name": "stdout",
          "text": [
            "Enter a number: 5\n",
            "Enter another number: 7\n",
            "Result: 0.7142857142857143\n"
          ]
        }
      ]
    },
    {
      "cell_type": "markdown",
      "source": [
        "Q.15\n",
        "\n",
        "Ans\n"
      ],
      "metadata": {
        "id": "Xu4fZXPwqInW"
      }
    },
    {
      "cell_type": "code",
      "source": [
        "# Create a sample file (you can comment this part out if using your own file)\n",
        "with open(\"test.txt\", \"w\") as f:\n",
        "    f.write(\"\")  # Leave empty to test empty file case\n",
        "\n",
        "# Read and handle empty file case\n",
        "try:\n",
        "    with open(\"test.txt\", \"r\") as f:\n",
        "        content = f.read()\n",
        "\n",
        "    if content.strip() == \"\":\n",
        "        print(\"The file is empty.\")\n",
        "    else:\n",
        "        print(\"File content:\")\n",
        "        print(content)\n",
        "\n",
        "except FileNotFoundError:\n",
        "    print(\"Error: File does not exist.\")\n",
        "\n"
      ],
      "metadata": {
        "colab": {
          "base_uri": "https://localhost:8080/"
        },
        "id": "oPrw6A8yqC-q",
        "outputId": "59a6e676-1f44-4676-fd30-d7aa73f28cba"
      },
      "execution_count": 88,
      "outputs": [
        {
          "output_type": "stream",
          "name": "stdout",
          "text": [
            "The file is empty.\n"
          ]
        }
      ]
    },
    {
      "cell_type": "markdown",
      "source": [
        "Q.16\n",
        "\n",
        "Ans\n"
      ],
      "metadata": {
        "id": "SxBglepNqdJ7"
      }
    },
    {
      "cell_type": "code",
      "source": [
        "import tracemalloc\n",
        "\n",
        "tracemalloc.start()\n",
        "\n",
        "a = [i for i in range(10000)]\n",
        "\n",
        "print(tracemalloc.get_traced_memory())\n",
        "\n",
        "tracemalloc.stop()\n"
      ],
      "metadata": {
        "colab": {
          "base_uri": "https://localhost:8080/"
        },
        "id": "nEvYYahnqY-5",
        "outputId": "759c1763-5e84-4079-e65a-605ec5e9c1c5"
      },
      "execution_count": 93,
      "outputs": [
        {
          "output_type": "stream",
          "name": "stdout",
          "text": [
            "(397905, 409193)\n"
          ]
        }
      ]
    },
    {
      "cell_type": "markdown",
      "source": [
        "Q.17\n",
        "\n",
        "Ans\n"
      ],
      "metadata": {
        "id": "WPM7P6xnq1qn"
      }
    },
    {
      "cell_type": "code",
      "source": [
        "# Create a list of numbers\n",
        "numbers = [10, 20, 30, 40, 50]\n",
        "\n",
        "# Open the file in write mode\n",
        "with open(\"numbers.txt\", \"w\") as f:\n",
        "    for num in numbers:\n",
        "        f.write(f\"{num}\\n\")  # Write each number followed by a newline\n",
        "\n",
        "print(\"Numbers written to 'numbers.txt' successfully.\")\n",
        "\n"
      ],
      "metadata": {
        "colab": {
          "base_uri": "https://localhost:8080/"
        },
        "id": "8leV7faCqsLw",
        "outputId": "eab71e2a-bbd4-4660-c28c-e3a220f8663a"
      },
      "execution_count": 99,
      "outputs": [
        {
          "output_type": "stream",
          "name": "stdout",
          "text": [
            "Numbers written to 'numbers.txt' successfully.\n"
          ]
        }
      ]
    },
    {
      "cell_type": "markdown",
      "source": [
        "Q.18\n",
        "\n",
        "Ans\n"
      ],
      "metadata": {
        "id": "McJbLZ43rKvj"
      }
    },
    {
      "cell_type": "code",
      "source": [
        "import logging\n",
        "from logging.handlers import RotatingFileHandler\n",
        "\n",
        "log_file = 'rotated_app.log'\n",
        "max_bytes = 1 * 1024 * 1024 # 1 MB\n",
        "backup_count = 5\n",
        "\n",
        "handler = RotatingFileHandler(log_file, maxBytes=max_bytes, backupCount=backup_count)\n",
        "formatter = logging.Formatter('%(asctime)s - %(levelname)s - %(message)s')\n",
        "handler.setFormatter(formatter)\n",
        "\n",
        "logger = logging.getLogger(__name__)\n",
        "logger.setLevel(logging.INFO)\n",
        "logger.addHandler(handler)\n",
        "\n",
        "logger.info(\"This is a log message.\")\n"
      ],
      "metadata": {
        "colab": {
          "base_uri": "https://localhost:8080/"
        },
        "id": "6AXSp-Dbq9KY",
        "outputId": "2ae550e9-77d9-4369-abab-c4f59538045b"
      },
      "execution_count": 102,
      "outputs": [
        {
          "output_type": "stream",
          "name": "stderr",
          "text": [
            "INFO:__main__:This is a log message.\n"
          ]
        }
      ]
    },
    {
      "cell_type": "markdown",
      "source": [
        "Q.19\n",
        "\n",
        "Ans"
      ],
      "metadata": {
        "id": "M_N86ItyrVYy"
      }
    },
    {
      "cell_type": "code",
      "source": [
        "my_list = [1, 2, 3]\n",
        "my_dict = {'a': 1}\n",
        "try:\n",
        "    print(my_list[5]) # IndexError\n",
        "    print(my_dict['b']) # KeyError\n",
        "except IndexError:\n",
        "    print(\"Caught IndexError: List index out of range.\")\n",
        "except KeyError:\n",
        "    print(\"Caught KeyError: Dictionary key not found.\")\n"
      ],
      "metadata": {
        "colab": {
          "base_uri": "https://localhost:8080/"
        },
        "id": "29CTKalzrOsm",
        "outputId": "85e236bc-a58b-4e32-d8bd-d518baadd3ff"
      },
      "execution_count": 103,
      "outputs": [
        {
          "output_type": "stream",
          "name": "stdout",
          "text": [
            "Caught IndexError: List index out of range.\n"
          ]
        }
      ]
    },
    {
      "cell_type": "markdown",
      "source": [
        "Q.20\n",
        "\n",
        "Ans\n"
      ],
      "metadata": {
        "id": "DQUz9P1KsH8U"
      }
    },
    {
      "cell_type": "code",
      "source": [
        "try:\n",
        "    with open('my_file.txt', 'r') as f:\n",
        "        content = f.read()\n",
        "        print(content)\n",
        "except FileNotFoundError:\n",
        "    print(\"Error: 'my_file.txt' not found.\")\n"
      ],
      "metadata": {
        "colab": {
          "base_uri": "https://localhost:8080/"
        },
        "id": "ouAhqmLOrsP-",
        "outputId": "f222cd3a-2e53-4194-d56e-72d8663a69d1"
      },
      "execution_count": 106,
      "outputs": [
        {
          "output_type": "stream",
          "name": "stdout",
          "text": [
            "Hello, Pwskills!\n"
          ]
        }
      ]
    },
    {
      "cell_type": "markdown",
      "source": [
        "Q.21\n",
        "\n",
        "Ans\n"
      ],
      "metadata": {
        "id": "shpp9-avsLPx"
      }
    },
    {
      "cell_type": "code",
      "source": [
        "word_to_count = \"Python\"\n",
        "count = 0\n",
        "\n",
        "with open(\"example.txt\", \"r\") as file:\n",
        "    for line in file:\n",
        "        count += line.lower().count(word_to_count.lower())\n",
        "\n",
        "print(f\"'{word_to_count}' occurred {count} times.\")\n"
      ],
      "metadata": {
        "colab": {
          "base_uri": "https://localhost:8080/"
        },
        "id": "YWxWNmp5r2WP",
        "outputId": "27f48cc0-7d2e-48bb-fded-5b344fc3a8b7"
      },
      "execution_count": 35,
      "outputs": [
        {
          "output_type": "stream",
          "name": "stdout",
          "text": [
            "'Python' occurred 1 times.\n"
          ]
        }
      ]
    },
    {
      "cell_type": "markdown",
      "source": [
        "Q.22\n",
        "\n",
        "Ans\n"
      ],
      "metadata": {
        "id": "HM5hBS5Osfb5"
      }
    },
    {
      "cell_type": "code",
      "source": [
        "import os\n",
        "file_path = 'my_file.txt'\n",
        "if os.path.exists(file_path) and os.path.getsize(file_path) == 0:\n",
        "    print(\"The file is empty.\")\n",
        "elif os.path.exists(file_path):\n",
        "    with open(file_path, 'r') as f:\n",
        "        content = f.read()\n",
        "        if not content:\n",
        "            print(\"The file is empty (checked via read()).\")\n",
        "        else:\n",
        "            print(\"File is not empty.\")\n",
        "else:\n",
        "    print(\"File does not exist.\")\n"
      ],
      "metadata": {
        "colab": {
          "base_uri": "https://localhost:8080/"
        },
        "id": "VbUuc30bsd39",
        "outputId": "8bf8502d-c50a-417a-c83d-a718e1284481"
      },
      "execution_count": 108,
      "outputs": [
        {
          "output_type": "stream",
          "name": "stdout",
          "text": [
            "File is not empty.\n"
          ]
        }
      ]
    },
    {
      "cell_type": "markdown",
      "source": [
        "Q.23\n",
        "\n",
        "Ans\n"
      ],
      "metadata": {
        "id": "TjqUH6pmtJ-v"
      }
    },
    {
      "cell_type": "code",
      "source": [
        "import logging\n",
        "\n",
        "logging.basicConfig(filename='error_handling.log', level=logging.ERROR)\n",
        "\n",
        "try:\n",
        "    with open(\"file.txt\", \"r\") as f:\n",
        "        print(f.read())\n",
        "except Exception as e:\n",
        "    logging.error(\"Error reading file: %s\", e)\n"
      ],
      "metadata": {
        "colab": {
          "base_uri": "https://localhost:8080/"
        },
        "id": "mABP9vxFtGKl",
        "outputId": "2081003c-862e-4094-e664-75f04438255a"
      },
      "execution_count": 109,
      "outputs": [
        {
          "output_type": "stream",
          "name": "stderr",
          "text": [
            "ERROR:root:Error reading file: [Errno 2] No such file or directory: 'file.txt'\n"
          ]
        }
      ]
    },
    {
      "cell_type": "code",
      "source": [],
      "metadata": {
        "id": "vA7WlpG-1Cqz"
      },
      "execution_count": null,
      "outputs": []
    }
  ]
}